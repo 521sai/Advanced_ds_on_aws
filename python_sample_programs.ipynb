{
  "nbformat": 4,
  "nbformat_minor": 0,
  "metadata": {
    "colab": {
      "provenance": [],
      "authorship_tag": "ABX9TyOjtmUwwxDpOzgOiDRgjZgK",
      "include_colab_link": true
    },
    "kernelspec": {
      "name": "python3",
      "display_name": "Python 3"
    },
    "language_info": {
      "name": "python"
    }
  },
  "cells": [
    {
      "cell_type": "markdown",
      "metadata": {
        "id": "view-in-github",
        "colab_type": "text"
      },
      "source": [
        "<a href=\"https://colab.research.google.com/github/521sai/Advanced_ds_on_aws/blob/main/python_sample_programs.ipynb\" target=\"_parent\"><img src=\"https://colab.research.google.com/assets/colab-badge.svg\" alt=\"Open In Colab\"/></a>"
      ]
    },
    {
      "cell_type": "code",
      "source": [
        "a=int(input(\"enter numer:\"))\n",
        "sum=0\n",
        "pro=1\n",
        "t=a\n",
        "while(a>0):\n",
        "  s=a%10\n",
        "  sum=sum+s\n",
        "  pro=pro*s\n",
        "  a=a//10\n",
        "if (sum==pro):\n",
        "  print(t,'spy number')\n",
        "else:\n",
        "  print(t,'not spy number')"
      ],
      "metadata": {
        "colab": {
          "base_uri": "https://localhost:8080/"
        },
        "id": "xpb3CbScvq2f",
        "outputId": "8871d8f6-ae20-4980-f649-008e4fe8ed4d"
      },
      "execution_count": 18,
      "outputs": [
        {
          "output_type": "stream",
          "name": "stdout",
          "text": [
            "enter numer:223\n",
            "223 not spy number\n"
          ]
        }
      ]
    },
    {
      "cell_type": "code",
      "source": [
        "i=int(input())\n",
        "sum=0\n",
        "temp=i\n",
        "while (temp>0):\n",
        "  di = temp%10;\n",
        "  sum=sum+di ** 3\n",
        "  temp=temp//10\n",
        "if i ==sum:\n",
        "  print(\"armstrong\")\n",
        "else:\n",
        "  print(\"not armstrong\")"
      ],
      "metadata": {
        "id": "8W7Fh_445UUI",
        "colab": {
          "base_uri": "https://localhost:8080/"
        },
        "outputId": "3735ac7c-b420-48d2-c75d-965291dea9da"
      },
      "execution_count": 17,
      "outputs": [
        {
          "output_type": "stream",
          "name": "stdout",
          "text": [
            "407\n",
            "armstrong\n"
          ]
        }
      ]
    },
    {
      "cell_type": "code",
      "source": [
        "a=int(input())\n",
        "b=str(a)\n",
        "c=b[::-1]\n",
        "print(c)"
      ],
      "metadata": {
        "colab": {
          "base_uri": "https://localhost:8080/"
        },
        "id": "viClUbUK8kpl",
        "outputId": "ea79a7a9-119d-4c30-a7f4-f1759d739b9e"
      },
      "execution_count": 23,
      "outputs": [
        {
          "output_type": "stream",
          "name": "stdout",
          "text": [
            "1234\n",
            "4321\n"
          ]
        }
      ]
    },
    {
      "cell_type": "code",
      "source": [
        "a=int(input())\n",
        "sum=0\n",
        "while a>0:\n",
        "  b=a%10\n",
        "  sum=sum *10 +b\n",
        "  a=a//10\n",
        "print(sum)"
      ],
      "metadata": {
        "colab": {
          "base_uri": "https://localhost:8080/"
        },
        "id": "-8mAWu7b-Mzh",
        "outputId": "a92974d1-1dbf-437d-f0f7-361826717935"
      },
      "execution_count": 24,
      "outputs": [
        {
          "output_type": "stream",
          "name": "stdout",
          "text": [
            "1234\n",
            "4321\n"
          ]
        }
      ]
    },
    {
      "cell_type": "code",
      "source": [
        "i=0\n",
        "j=1\n",
        "for k in range(10):\n",
        "  print(i)\n",
        "  a=i+j\n",
        "  i=j\n",
        "  j=a\n"
      ],
      "metadata": {
        "colab": {
          "base_uri": "https://localhost:8080/"
        },
        "id": "KIMNc2Z6-wqq",
        "outputId": "ad9accea-2cd5-49b4-d35e-2a73910e823a"
      },
      "execution_count": 52,
      "outputs": [
        {
          "output_type": "stream",
          "name": "stdout",
          "text": [
            "0\n",
            "1\n",
            "1\n",
            "2\n",
            "3\n",
            "5\n",
            "8\n",
            "13\n",
            "21\n",
            "34\n"
          ]
        }
      ]
    },
    {
      "cell_type": "code",
      "source": [
        "i=0\n",
        "j=1\n",
        "for k in range(10):\n",
        "  print(i)\n",
        "  a=i+j\n",
        "  i=j\n",
        "  j=a"
      ],
      "metadata": {
        "colab": {
          "base_uri": "https://localhost:8080/"
        },
        "id": "nJHCz0a8LHDD",
        "outputId": "5a733e6c-7049-44ab-e00d-31f3e58a09c3"
      },
      "execution_count": 56,
      "outputs": [
        {
          "output_type": "stream",
          "name": "stdout",
          "text": [
            "0\n",
            "1\n",
            "1\n",
            "2\n",
            "3\n",
            "5\n",
            "8\n",
            "13\n",
            "21\n",
            "34\n"
          ]
        }
      ]
    },
    {
      "cell_type": "code",
      "source": [
        "a=int(input())\n",
        "if (a % 100 == 0) and (a % 400 == 0):\n",
        "  print('leap')\n",
        "elif(a % 4 ==0) and (a % 100 != 0):\n",
        "  print('leap')\n",
        "else:\n",
        "  print('not')"
      ],
      "metadata": {
        "colab": {
          "base_uri": "https://localhost:8080/"
        },
        "id": "BxrORe7dBdOk",
        "outputId": "04a33759-7627-4ac3-c809-ff525fe1eb85"
      },
      "execution_count": 36,
      "outputs": [
        {
          "output_type": "stream",
          "name": "stdout",
          "text": [
            "2028\n",
            "leap\n"
          ]
        }
      ]
    },
    {
      "cell_type": "code",
      "source": [
        "a=int(input())\n",
        "f=False\n",
        "if a==1:\n",
        "  print(\"not a prime\")\n",
        "elif a>1:\n",
        "  for i in range(2,a):\n",
        "    if (a%2==0):\n",
        "      f=True\n",
        "      break\n",
        "if f:\n",
        "  print('not prime')\n",
        "else:\n",
        "  print('prime')"
      ],
      "metadata": {
        "colab": {
          "base_uri": "https://localhost:8080/"
        },
        "id": "XrjKdVy8F1eX",
        "outputId": "aae8e978-9aed-42ca-f141-7d3ef9c785b5"
      },
      "execution_count": 50,
      "outputs": [
        {
          "output_type": "stream",
          "name": "stdout",
          "text": [
            "2\n",
            "prime\n"
          ]
        }
      ]
    }
  ]
}